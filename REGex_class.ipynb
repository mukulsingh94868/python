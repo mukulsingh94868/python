{
  "nbformat": 4,
  "nbformat_minor": 0,
  "metadata": {
    "colab": {
      "name": "REGex_class",
      "provenance": [],
      "authorship_tag": "ABX9TyOLCEkW1oS/4I8jJaAZ2e85",
      "include_colab_link": true
    },
    "kernelspec": {
      "name": "python3",
      "display_name": "Python 3"
    }
  },
  "cells": [
    {
      "cell_type": "markdown",
      "metadata": {
        "id": "view-in-github",
        "colab_type": "text"
      },
      "source": [
        "<a href=\"https://colab.research.google.com/github/mukulsingh94868/python/blob/master/REGex_class.ipynb\" target=\"_parent\"><img src=\"https://colab.research.google.com/assets/colab-badge.svg\" alt=\"Open In Colab\"/></a>"
      ]
    },
    {
      "cell_type": "code",
      "metadata": {
        "id": "acNBcuh2XX6k",
        "colab_type": "code",
        "colab": {
          "base_uri": "https://localhost:8080/",
          "height": 51
        },
        "outputId": "caef9ac8-2d5b-4b26-f1eb-3e6a940386c7"
      },
      "source": [
        "import datetime\n",
        "a = str(datetime.datetime.now())\n",
        "print(a)\n",
        "print(a.split(\" \"))"
      ],
      "execution_count": 2,
      "outputs": [
        {
          "output_type": "stream",
          "text": [
            "2020-04-14 11:08:27.389861\n",
            "['2020-04-14', '11:08:27.389861']\n"
          ],
          "name": "stdout"
        }
      ]
    },
    {
      "cell_type": "code",
      "metadata": {
        "id": "kp6KoJfrXsb8",
        "colab_type": "code",
        "colab": {
          "base_uri": "https://localhost:8080/",
          "height": 34
        },
        "outputId": "ecd43ba4-2a6f-4d76-dfc4-48e7f817c303"
      },
      "source": [
        "# datetime.datetime ...> list\n",
        "#list(....)\n",
        "import time\n",
        "a = time.ctime()\n",
        "type(a)\n",
        "c = a.split(\" \")\n",
        "print(c[0])\n"
      ],
      "execution_count": 6,
      "outputs": [
        {
          "output_type": "stream",
          "text": [
            "Tue\n"
          ],
          "name": "stdout"
        }
      ]
    },
    {
      "cell_type": "code",
      "metadata": {
        "id": "PDL7ZRFqYZHq",
        "colab_type": "code",
        "colab": {
          "base_uri": "https://localhost:8080/",
          "height": 34
        },
        "outputId": "8c2932c2-e91a-46fb-c6e7-26836bc3f2c8"
      },
      "source": [
        "# web browser\n",
        "# webbrowser.py\n",
        "\n",
        "# webbrowser.open_new_tab()\n",
        "# webbrowser/open()\n",
        "# webbrowser.open_new()\n",
        "import webbrowser\n",
        "webbrowser.open_new_tab(\"https://www.google.com/search?q=python\")\n",
        "\n",
        "# we use the search?q=python   that use for the anything that we want to search\n"
      ],
      "execution_count": 10,
      "outputs": [
        {
          "output_type": "execute_result",
          "data": {
            "text/plain": [
              "False"
            ]
          },
          "metadata": {
            "tags": []
          },
          "execution_count": 10
        }
      ]
    },
    {
      "cell_type": "code",
      "metadata": {
        "id": "gpruwi0oZaZN",
        "colab_type": "code",
        "colab": {
          "base_uri": "https://localhost:8080/",
          "height": 102
        },
        "outputId": "3f5b62e6-4a77-449b-e721-8b6e734a198a"
      },
      "source": [
        "!pip install qrcode"
      ],
      "execution_count": 11,
      "outputs": [
        {
          "output_type": "stream",
          "text": [
            "Collecting qrcode\n",
            "  Downloading https://files.pythonhosted.org/packages/42/87/4a3a77e59ab7493d64da1f69bf1c2e899a4cf81e51b2baa855e8cc8115be/qrcode-6.1-py2.py3-none-any.whl\n",
            "Requirement already satisfied: six in /usr/local/lib/python3.6/dist-packages (from qrcode) (1.12.0)\n",
            "Installing collected packages: qrcode\n",
            "Successfully installed qrcode-6.1\n"
          ],
          "name": "stdout"
        }
      ]
    },
    {
      "cell_type": "code",
      "metadata": {
        "id": "fZlMlbYTfpDN",
        "colab_type": "code",
        "colab": {}
      },
      "source": [
        "# for making the qrcode\n",
        "import qrcode\n",
        "img = qrcode.make(\"www.google.com\")\n",
        "img.save(\"scanner.png\")"
      ],
      "execution_count": 0,
      "outputs": []
    },
    {
      "cell_type": "code",
      "metadata": {
        "id": "y49RMeuIf1SZ",
        "colab_type": "code",
        "colab": {}
      },
      "source": [
        ""
      ],
      "execution_count": 0,
      "outputs": []
    }
  ]
}